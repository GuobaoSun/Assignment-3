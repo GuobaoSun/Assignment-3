{
 "cells": [
  {
   "cell_type": "code",
   "execution_count": 15,
   "metadata": {
    "scrolled": true
   },
   "outputs": [
    {
     "name": "stderr",
     "output_type": "stream",
     "text": [
      "C:\\Users\\Administrator\\Anaconda3\\lib\\site-packages\\ipykernel_launcher.py:20: SettingWithCopyWarning: \n",
      "A value is trying to be set on a copy of a slice from a DataFrame.\n",
      "Try using .loc[row_indexer,col_indexer] = value instead\n",
      "\n",
      "See the caveats in the documentation: http://pandas.pydata.org/pandas-docs/stable/user_guide/indexing.html#returning-a-view-versus-a-copy\n"
     ]
    },
    {
     "name": "stdout",
     "output_type": "stream",
     "text": [
      "Malaysia          254.0\n",
      "New Zealand       420.0\n",
      "United States     484.0\n",
      "India             507.0\n",
      "China            1121.0\n",
      "Name: df_compare, dtype: float64\n"
     ]
    }
   ],
   "source": [
    "import pandas as pd\n",
    "import numpy as np\n",
    "import matplotlib.pyplot as plt\n",
    "import mplleaflet\n",
    "\n",
    "# 1. Import dataset\n",
    "\n",
    "df=pd.read_csv('National_Tourism_Forecasts_2019 with Lats and Longs.csv',parse_dates=['Year'],index_col='Year')\n",
    "df\n",
    "\n",
    "# 2. Organize dataset\n",
    "\n",
    "df_tr = df.transpose()#transpose 'Year' with 'Countries'\n",
    "df0=df_tr.loc[:,['2018','2028','Lats','Longs']]#for compare the 2028 data with the 2018 data\n",
    "df1 =df0.iloc[:15]#filter the country's data\n",
    "\n",
    "# 3. Calculate top 5 countries where the number of tourists to Australia increased from 2018 to 2028\n",
    "\n",
    "df_compare=df1['2028']-df1['2018']#get the added value from 2018 to 2028\n",
    "df1['df_compare']=df_compare#add new column 'df_compare' to df1\n",
    "df_sorted=df1.sort_values(by=['df_compare'])#sort the value by 'df_compare'\n",
    "df_sorted[-5:]#get the top 5 countries where the number of tourists to Australia increased from 2018 to 2028\n",
    "df2=df_sorted[-5:]\n",
    "df3=df2['df_compare']#selected the useful column\n",
    "\n",
    "# 4. Create a visual map using mplleaflet\n",
    "\n",
    "print(df3)#display the increasd numbers\n",
    "\n",
    "line_plot_lats = df2['Lats']\n",
    "line_plot_longs = df2['Longs']\n",
    "df_size=df3\n",
    "df_color=df3\n",
    "plt.scatter(line_plot_longs,line_plot_lats,s=df_size,c=df_color, cmap=plt.cm.RdYlBu,alpha=1) \n",
    "mplleaflet.show()# display visual map using mplleaflet \n",
    "\n",
    "#linke for map: file:///C:/Users/Administrator/Assignment%203/Assignment%203/_map.html"
   ]
  },
  {
   "cell_type": "code",
   "execution_count": null,
   "metadata": {},
   "outputs": [],
   "source": []
  }
 ],
 "metadata": {
  "kernelspec": {
   "display_name": "Python 3",
   "language": "python",
   "name": "python3"
  },
  "language_info": {
   "codemirror_mode": {
    "name": "ipython",
    "version": 3
   },
   "file_extension": ".py",
   "mimetype": "text/x-python",
   "name": "python",
   "nbconvert_exporter": "python",
   "pygments_lexer": "ipython3",
   "version": "3.7.4"
  }
 },
 "nbformat": 4,
 "nbformat_minor": 2
}
